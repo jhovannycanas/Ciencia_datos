{
 "cells": [
  {
   "cell_type": "markdown",
   "metadata": {},
   "source": [
    "##Funcion es numero primo by Valentina"
   ]
  },
  {
   "cell_type": "code",
   "execution_count": 8,
   "metadata": {
    "collapsed": true
   },
   "outputs": [],
   "source": [
    "  def esnumeroprimo(numero):\n",
    "        if numero <= 2:\n",
    "            print(\"por favor ingrese un numero mayor a 2\")\n",
    "            return\n",
    "        ndiv=0\n",
    "        for i in range(1,numero+1):\n",
    "            if(numero % i==0):\n",
    "                ndiv=ndiv+1\n",
    "            if(ndiv!=2):\n",
    "                print(\"no es primo\")\n",
    "            if(ndiv==2):\n",
    "                print(\"es primo\")\n",
    "    \n"
   ]
  },
  {
   "cell_type": "code",
   "execution_count": 9,
   "metadata": {
    "scrolled": true
   },
   "outputs": [
    {
     "name": "stdout",
     "output_type": "stream",
     "text": [
      "por favor ingrese un numero mayor a 2\n"
     ]
    }
   ],
   "source": [
    "esnumeroprimo(10)"
   ]
  },
  {
   "cell_type": "markdown",
   "metadata": {},
   "source": [
    "### funcion con parametros de lista"
   ]
  },
  {
   "cell_type": "code",
   "execution_count": 11,
   "metadata": {},
   "outputs": [
    {
     "name": "stdout",
     "output_type": "stream",
     "text": [
      "2\n",
      "3\n",
      "donald\n",
      "True\n"
     ]
    }
   ],
   "source": [
    "def mifuncionLista(lista):\n",
    "    for elemento in lista:\n",
    "        print(elemento)\n",
    "miLista = [2,3,\"donald\", True]\n",
    "mifuncionLista(miLista)"
   ]
  },
  {
   "cell_type": "code",
   "execution_count": 12,
   "metadata": {},
   "outputs": [
    {
     "data": {
      "text/plain": [
       "4"
      ]
     },
     "execution_count": 12,
     "metadata": {},
     "output_type": "execute_result"
    }
   ],
   "source": [
    "def funcionParametroDefecto(numero, potencia = 2):\n",
    "    return numero ** potencia\n",
    "funcionParametroDefecto(2)"
   ]
  },
  {
   "cell_type": "code",
   "execution_count": 13,
   "metadata": {},
   "outputs": [
    {
     "data": {
      "text/plain": [
       "8"
      ]
     },
     "execution_count": 13,
     "metadata": {},
     "output_type": "execute_result"
    }
   ],
   "source": [
    "funcionParametroDefecto(2,3)"
   ]
  },
  {
   "cell_type": "code",
   "execution_count": 18,
   "metadata": {},
   "outputs": [
    {
     "data": {
      "text/plain": [
       "5.5"
      ]
     },
     "execution_count": 18,
     "metadata": {},
     "output_type": "execute_result"
    }
   ],
   "source": [
    "def promedio(valores):\n",
    "    return sum(valores) / len(valores)\n",
    "\n",
    "\n",
    "valores = [2,4,6,10]\n",
    "promedio(valores)"
   ]
  },
  {
   "cell_type": "code",
   "execution_count": 34,
   "metadata": {},
   "outputs": [],
   "source": [
    "def parametrosNoDeeterminados(*args, **kwargs):\n",
    "    for elemento in kwargs:\n",
    "        print(elemento)\n",
    "parametrosNoDeeterminados(1,2,3,4,5)"
   ]
  },
  {
   "cell_type": "code",
   "execution_count": 35,
   "metadata": {},
   "outputs": [],
   "source": [
    "def parametrosDeterminados(param1, param2, param3, param4):\n",
    "    print(param1)\n",
    "    print(param2)\n",
    "    print(param3)\n",
    "    print(param4)"
   ]
  },
  {
   "cell_type": "code",
   "execution_count": 28,
   "metadata": {},
   "outputs": [
    {
     "name": "stdout",
     "output_type": "stream",
     "text": [
      "1\n",
      "2\n",
      "3\n",
      "4\n"
     ]
    }
   ],
   "source": [
    "parametrosDeterminados(1,2,3,4)"
   ]
  },
  {
   "cell_type": "code",
   "execution_count": 36,
   "metadata": {},
   "outputs": [],
   "source": [
    "miDiccinario = {\"a\":\"1\"}\n",
    "parametrosNoDeeterminados(2,3,miDiccinario)"
   ]
  },
  {
   "cell_type": "code",
   "execution_count": 38,
   "metadata": {},
   "outputs": [
    {
     "name": "stdout",
     "output_type": "stream",
     "text": [
      "[2, 7, 9, 5, 6]\n",
      "[2, 5, 6, 7, 9]\n"
     ]
    }
   ],
   "source": [
    "listaDesordenada = [2,7,9,5,6]\n",
    "print(listaDesordenada)\n",
    "print(sorted(listaDesordenada))\n"
   ]
  },
  {
   "cell_type": "code",
   "execution_count": 39,
   "metadata": {},
   "outputs": [
    {
     "name": "stdout",
     "output_type": "stream",
     "text": [
      "1\n"
     ]
    }
   ],
   "source": [
    "numeroFraccionario = 1.36587\n",
    "numeroRedondeo = round(numeroFraccionario)\n",
    "print(numeroRedondeo)"
   ]
  },
  {
   "cell_type": "code",
   "execution_count": null,
   "metadata": {
    "collapsed": true
   },
   "outputs": [],
   "source": []
  }
 ],
 "metadata": {
  "kernelspec": {
   "display_name": "Python 3",
   "language": "python",
   "name": "python3"
  },
  "language_info": {
   "codemirror_mode": {
    "name": "ipython",
    "version": 3
   },
   "file_extension": ".py",
   "mimetype": "text/x-python",
   "name": "python",
   "nbconvert_exporter": "python",
   "pygments_lexer": "ipython3",
   "version": "3.6.1"
  }
 },
 "nbformat": 4,
 "nbformat_minor": 2
}
